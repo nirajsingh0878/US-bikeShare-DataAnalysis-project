{
 "cells": [
  {
   "cell_type": "markdown",
   "metadata": {},
   "source": [
    "# 2016 US Bike Share Activity Snapshot\n",
    "\n",
    "## Table of Contents\n",
    "- [Introduction](#intro)\n",
    "- [Posing Questions](#pose_questions)\n",
    "- [Data Collection and Wrangling](#wrangling)\n",
    "  - [Condensing the Trip Data](#condensing)\n",
    "- [Exploratory Data Analysis](#eda)\n",
    "  - [Statistics](#statistics)\n",
    "  - [Visualizations](#visualizations)\n",
    "- [Performing Your Own Analysis](#eda_continued)\n",
    "- [Conclusions](#conclusions)`\n",
    "\n",
    "<a id='intro'></a>\n",
    "## Introduction\n",
    "\n",
    "\n",
    "Over the past decade, bicycle-sharing systems have been growing in number and popularity in cities across the world. Bicycle-sharing systems allow users to rent bicycles for short trips, typically 30 minutes or less. Thanks to the rise in information technologies, it is easy for a user of the system to access a dock within the system to unlock or return bicycles. These technologies also provide a wealth of data that can be used to explore how these bike-sharing systems are used.\n"
   ]
  },
  {
   "cell_type": "markdown",
   "metadata": {},
   "source": [
    "<a id='pose_questions'></a>\n",
    "## Posing Questions\n",
    "\n",
    "**Question 1**: Write at least two questions related to bike sharing that you think could be answered by data.\n",
    "\n",
    "**Answer**:\n",
    "- In a Given data we have attributes *from_station_id* and *to_station_id* so based on that we can see the pattern of uses of bike where it extremely high more than expected and where its quite below the expected uses.We can answer where we need to adjust number of bike available in certain station based on need.We can solved supply and demand problem with flexibility of changes basaed on data\n",
    "-   We can answer what age group mostly uses bikeshare system in particular city after data analysis. \n",
    "\n"
   ]
  },
  {
   "cell_type": "markdown",
   "metadata": {},
   "source": [
    "<a id='wrangling'></a>\n",
    "## Data Collection and Wrangling\n",
    "\n",
    "Now it's time to collect and explore our data. In this project, we will focus on the record of individual trips taken in 2016 from our selected cities: New York City, Chicago, and Washington, DC. Each of these cities has a page where we can freely download the trip data.:\n",
    "\n",
    "- New York City (Citi Bike): [Link](https://www.citibikenyc.com/system-data)\n",
    "- Chicago (Divvy): [Link](https://www.divvybikes.com/system-data)\n",
    "- Washington, DC (Capital Bikeshare): [Link](https://www.capitalbikeshare.com/system-data)\n",
    "\n",
    "\n",
    "**Question 2**: complete the second code cell to print out the first trip recorded from each of the cities (the second line of each data file).\n",
    "\n"
   ]
  },
  {
   "cell_type": "code",
   "execution_count": 50,
   "metadata": {},
   "outputs": [],
   "source": [
    "## import all necessary packages and functions.\n",
    "import csv # read and write csv files\n",
    "import calendar\n",
    "import numpy as np\n",
    "from datetime import datetime # operations to parse dates\n",
    "from pprint import pprint # use to print data structures like dictionaries in\n",
    "                          # a nicer way than the base print function.           "
   ]
  },
  {
   "cell_type": "code",
   "execution_count": 51,
   "metadata": {},
   "outputs": [
    {
     "name": "stdout",
     "output_type": "stream",
     "text": [
      "\n",
      "City: NYC\n",
      "OrderedDict([('tripduration', '839'),\n",
      "             ('starttime', '1/1/2016 00:09:55'),\n",
      "             ('stoptime', '1/1/2016 00:23:54'),\n",
      "             ('start station id', '532'),\n",
      "             ('start station name', 'S 5 Pl & S 4 St'),\n",
      "             ('start station latitude', '40.710451'),\n",
      "             ('start station longitude', '-73.960876'),\n",
      "             ('end station id', '401'),\n",
      "             ('end station name', 'Allen St & Rivington St'),\n",
      "             ('end station latitude', '40.72019576'),\n",
      "             ('end station longitude', '-73.98997825'),\n",
      "             ('bikeid', '17109'),\n",
      "             ('usertype', 'Customer'),\n",
      "             ('birth year', ''),\n",
      "             ('gender', '0')])\n",
      "\n",
      "City: Chicago\n",
      "OrderedDict([('trip_id', '9080545'),\n",
      "             ('starttime', '3/31/2016 23:30'),\n",
      "             ('stoptime', '3/31/2016 23:46'),\n",
      "             ('bikeid', '2295'),\n",
      "             ('tripduration', '926'),\n",
      "             ('from_station_id', '156'),\n",
      "             ('from_station_name', 'Clark St & Wellington Ave'),\n",
      "             ('to_station_id', '166'),\n",
      "             ('to_station_name', 'Ashland Ave & Wrightwood Ave'),\n",
      "             ('usertype', 'Subscriber'),\n",
      "             ('gender', 'Male'),\n",
      "             ('birthyear', '1990')])\n",
      "\n",
      "City: Washington\n",
      "OrderedDict([('Duration (ms)', '427387'),\n",
      "             ('Start date', '3/31/2016 22:57'),\n",
      "             ('End date', '3/31/2016 23:04'),\n",
      "             ('Start station number', '31602'),\n",
      "             ('Start station', 'Park Rd & Holmead Pl NW'),\n",
      "             ('End station number', '31207'),\n",
      "             ('End station', 'Georgia Ave and Fairmont St NW'),\n",
      "             ('Bike number', 'W20842'),\n",
      "             ('Member Type', 'Registered')])\n"
     ]
    }
   ],
   "source": [
    "def print_first_point(filename):\n",
    "    \"\"\"\n",
    "    This function prints and returns the first data point (second row) from\n",
    "    a csv file that includes a header row.\n",
    "    \"\"\"\n",
    "    # print city name for reference\n",
    "    city = filename.split('-')[0].split('/')[-1]\n",
    "    print('\\nCity: {}'.format(city))\n",
    "    #trip_reader = csv_file(filename)\n",
    "    with open(filename, 'r') as f_in:\n",
    "        trip_reader = csv.DictReader(f_in)\n",
    "        first_trip = trip_reader.__next__()\n",
    "        pprint(first_trip)\n",
    "    # output city name and first trip for later testing\n",
    "    return (city, first_trip)\n",
    "\n",
    "\n",
    "# list of files for each city\n",
    "data_files = ['./data/NYC-CitiBike-2016.csv',\n",
    "              './data/Chicago-Divvy-2016.csv',\n",
    "              './data/Washington-CapitalBikeshare-2016.csv',]\n",
    "\n",
    "# print the first trip from each file, store in dictionary\n",
    "example_trips = {}\n",
    "for data_file in data_files:\n",
    "    city, first_trip = print_first_point(data_file)\n",
    "    example_trips[city] = first_trip"
   ]
  },
  {
   "cell_type": "markdown",
   "metadata": {},
   "source": [
    "<a id='condensing'></a>\n",
    "### Condensing the Trip Data\n",
    "\n",
    "- **Duration**: This has been given to us in seconds (New York, Chicago) or milliseconds (Washington). A more natural unit of analysis will be if all the trip durations are given in terms of minutes.\n",
    "- **Month**, **Hour**, **Day of Week**: Ridership volume is likely to change based on the season, time of day, and whether it is a weekday or weekend. Use the start time of the trip to obtain these values. The New York City data includes the seconds in their timestamps, while Washington and Chicago do not. The [`datetime`](https://docs.python.org/3/library/datetime.html) package will be very useful here to make the needed conversions.\n",
    "- **User Type**: It is possible that users who are subscribed to a bike-share system will have different patterns of use compared to users who only have temporary passes. Washington divides its users into two types: 'Registered' for users with annual, monthly, and other longer-term subscriptions, and 'Casual', for users with 24-hour, 3-day, and other short-term passes. The New York and Chicago data uses 'Subscriber' and 'Customer' for these groups, respectively. For consistency, you will convert the Washington labels to match the other two.\n",
    "\n",
    "\n",
    "**Question 3a**: Complete the helper functions in the code cells below to address each of the cleaning tasks described above."
   ]
  },
  {
   "cell_type": "code",
   "execution_count": 52,
   "metadata": {},
   "outputs": [],
   "source": [
    "def duration_in_mins(datum, city):\n",
    "    \"\"\"\n",
    "    Takes as input a dictionary containing info about a single trip (datum) and\n",
    "    its origin city (city) and returns the trip duration in units of minutes.\n",
    "    \n",
    "    Remember that Washington is in terms of milliseconds while Chicago and NYC\n",
    "    are in terms of seconds. \n",
    "    \n",
    "    \"\"\"\n",
    "    # YOUR CODE HERE\n",
    "    if city ==\"Washington\":\n",
    "        duration = int(datum['Duration (ms)'])/60000\n",
    "    elif city ==\"Chicago\" or city =='NYC':\n",
    "        duration = int(datum['tripduration'])/60\n",
    "    return duration\n",
    "\n",
    "\n",
    "#Using assertion to check if we are getting right answer or not.\n",
    "tests = {'NYC': 13.9833,\n",
    "         'Chicago': 15.4333,\n",
    "         'Washington': 7.1231}\n",
    "\n",
    "for city in tests:\n",
    "    assert abs(duration_in_mins(example_trips[city], city) - tests[city]) < .001"
   ]
  },
  {
   "cell_type": "code",
   "execution_count": 53,
   "metadata": {},
   "outputs": [],
   "source": [
    "def time_of_trip(datum, city):\n",
    "    \"\"\"\n",
    "    Takes as input a dictionary containing info about a single trip (datum) and\n",
    "    its origin city (city) and returns the month, hour, and day of the week in\n",
    "    which the trip was made.\n",
    "    \n",
    "    Remember that NYC includes seconds, while Washington and Chicago do not.\n",
    "    \n",
    "    \"\"\" \n",
    "    if city == 'NYC':\n",
    "        tt= datetime.strptime(datum['starttime'], \"%m/%d/%Y %H:%M:%S\")\n",
    "    elif city == 'Chicago':\n",
    "        tt= datetime.strptime(datum['starttime'], \"%m/%d/%Y %H:%M\")\n",
    "    elif city == 'Washington':\n",
    "        tt= datetime.strptime(datum['Start date'], \"%m/%d/%Y %H:%M\") \n",
    "    month=tt.month\n",
    "    hour= tt.hour\n",
    "    day_of_week=tt.strftime(\"%A\")                          \n",
    "    return (month, hour, day_of_week)\n",
    "\n",
    "\n",
    "# Some tests to check that your code works. There should be no output if all of\n",
    "# the assertions pass.\n",
    "tests = {'NYC': (1, 0, 'Friday'),\n",
    "         'Chicago': (3, 23, 'Thursday'),\n",
    "         'Washington': (3, 22, 'Thursday')}\n",
    "\n",
    "for city in tests:\n",
    "    assert time_of_trip(example_trips[city], city) == tests[city]"
   ]
  },
  {
   "cell_type": "code",
   "execution_count": 54,
   "metadata": {},
   "outputs": [],
   "source": [
    "def type_of_user(datum, city):\n",
    "    \"\"\"\n",
    "    Takes as input a dictionary containing info about a single trip (datum) and\n",
    "    its origin city (city) and returns the type of system user that made the\n",
    "    trip.\n",
    "    \n",
    "    Remember that Washington has different category names compared to Chicago\n",
    "    and NYC. \n",
    "    \"\"\"\n",
    "    if city == \"Washington\":\n",
    "        if datum['Member Type'] == 'Registered':\n",
    "            user_type = \"Subscriber\"\n",
    "        else:\n",
    "            user_type = \"Customer\"\n",
    "    elif city == \"NYC\" or city == \"Chicago\":\n",
    "        user_type=datum['usertype']\n",
    "    return user_type\n",
    "\n",
    "\n",
    "# Some tests to check that your code works. There should be no output if all of\n",
    "# the assertions pass.\n",
    "tests = {'NYC': 'Customer',\n",
    "         'Chicago': 'Subscriber',\n",
    "         'Washington': 'Subscriber'}\n",
    "\n",
    "for city in tests:\n",
    "    assert type_of_user(example_trips[city], city) == tests[city]"
   ]
  },
  {
   "cell_type": "markdown",
   "metadata": {},
   "source": [
    "**Question 3b**: Now, use the helper functions you wrote above to create a condensed data file for each city consisting only of the data fields indicated above. In the `/examples/` folder, you will see an example datafile from the [Bay Area Bike Share](http://www.bayareabikeshare.com/open-data) before and after conversion. Make sure that your output is formatted to be consistent with the example file."
   ]
  },
  {
   "cell_type": "code",
   "execution_count": 55,
   "metadata": {},
   "outputs": [],
   "source": [
    "def condense_data(in_file, out_file, city):\n",
    "    \"\"\"\n",
    "    This function takes full data from the specified input file\n",
    "    and writes the condensed data to a specified output file. The city\n",
    "    argument determines how the input file will be parsed.\n",
    "    \n",
    "    HINT: See the cell below to see how the arguments are structured!\n",
    "    \"\"\"\n",
    "    with open(out_file, 'w') as f_out, open(in_file, 'r') as f_in:\n",
    "        # set up csv DictWriter object - writer requires column names for the\n",
    "        # first row as the \"fieldnames\" argument\n",
    "        out_colnames = ['duration', 'month', 'hour', 'day_of_week', 'user_type']        \n",
    "        trip_writer = csv.DictWriter(f_out, fieldnames = out_colnames)\n",
    "        trip_writer.writeheader()\n",
    "        \n",
    "        ## TODO: set up csv DictReader object ##\n",
    "        trip_reader = csv.DictReader(f_in)\n",
    "        # collect data from and process each row\n",
    "        for row in trip_reader:\n",
    "            # set up a dictionary to hold the values for the cleaned and trimmed\n",
    "            # data point\n",
    "            new_point = {}\n",
    "            month,hour,day_of_week = time_of_trip(row, city)\n",
    "            #adding calculated data in new_point so we can write it in new out file\n",
    "            new_point = {out_colnames[0]:duration_in_mins(row, city),out_colnames[1]:month,out_colnames[2]:hour,\n",
    "                         out_colnames[3]:day_of_week,out_colnames[4]:type_of_user(row,city)}\n",
    "            trip_writer.writerow(new_point)\n",
    "            \n",
    "            "
   ]
  },
  {
   "cell_type": "code",
   "execution_count": 56,
   "metadata": {},
   "outputs": [
    {
     "name": "stdout",
     "output_type": "stream",
     "text": [
      "\n",
      "City: Washington\n",
      "OrderedDict([('duration', '7.123116666666666'),\n",
      "             ('month', '3'),\n",
      "             ('hour', '22'),\n",
      "             ('day_of_week', 'Thursday'),\n",
      "             ('user_type', 'Subscriber')])\n",
      "\n",
      "City: Chicago\n",
      "OrderedDict([('duration', '15.433333333333334'),\n",
      "             ('month', '3'),\n",
      "             ('hour', '23'),\n",
      "             ('day_of_week', 'Thursday'),\n",
      "             ('user_type', 'Subscriber')])\n",
      "\n",
      "City: NYC\n",
      "OrderedDict([('duration', '13.983333333333333'),\n",
      "             ('month', '1'),\n",
      "             ('hour', '0'),\n",
      "             ('day_of_week', 'Friday'),\n",
      "             ('user_type', 'Customer')])\n"
     ]
    }
   ],
   "source": [
    "# Run this cell to check your work\n",
    "city_info = {'Washington': {'in_file': './data/Washington-CapitalBikeshare-2016.csv',\n",
    "                            'out_file': './data/Washington-2016-Summary.csv'},\n",
    "             'Chicago': {'in_file': './data/Chicago-Divvy-2016.csv',\n",
    "                         'out_file': './data/Chicago-2016-Summary.csv'},\n",
    "             'NYC': {'in_file': './data/NYC-CitiBike-2016.csv',\n",
    "                     'out_file': './data/NYC-2016-Summary.csv'}}\n",
    "\n",
    "for city, filenames in city_info.items():\n",
    "    condense_data(filenames['in_file'], filenames['out_file'], city)\n",
    "    print_first_point(filenames['out_file'])"
   ]
  },
  {
   "cell_type": "markdown",
   "metadata": {},
   "source": [
    "<a id='eda'></a>\n",
    "## Exploratory Data Analysis\n",
    "\n",
    "Now that you have the data collected and wrangled, you're ready to start exploring the data. In this section you will write some code to compute descriptive statistics from the data. You will also be introduced to the `matplotlib` library to create some basic histograms of the data.\n",
    "\n",
    "<a id='statistics'></a>\n",
    "### Statistics\n",
    "\n",
    "**Question 4a**: Which city has the highest number of trips? Which city has the highest proportion of trips made by subscribers? Which city has the highest proportion of trips made by short-term customers?\n",
    "\n",
    "**Answer**:\n",
    "-  City which has the highest number of trips is:NYC\n",
    "-  City which has the highest proportion of trips made by subscribers is: Chicago\n",
    "-  City which has the highest proportion of trips made by short-term customers is:NYC\n"
   ]
  },
  {
   "cell_type": "code",
   "execution_count": 57,
   "metadata": {},
   "outputs": [],
   "source": [
    "def number_of_trips(filename):\n",
    "    \"\"\"\n",
    "    This function reads in a file with trip data and reports the number of\n",
    "    trips made by subscribers, customers, and total overall.\n",
    "    \"\"\"\n",
    "    with open(filename, 'r') as f_in:\n",
    "        # set up csv reader object\n",
    "        reader = csv.DictReader(f_in)\n",
    "        \n",
    "        # initialize count variables\n",
    "        n_subscribers = 0\n",
    "        n_customers = 0\n",
    "        \n",
    "        # tally up ride types\n",
    "        for row in reader:\n",
    "            if row['user_type'] == 'Subscriber':\n",
    "                n_subscribers += 1\n",
    "            else:\n",
    "                n_customers += 1\n",
    "        \n",
    "        # compute total number of rides\n",
    "        n_total = n_subscribers + n_customers\n",
    "        \n",
    "        # return tallies as a tuple\n",
    "        return {'Subscribers':n_subscribers,'Customers':n_customers,'Total':n_total}"
   ]
  },
  {
   "cell_type": "code",
   "execution_count": 58,
   "metadata": {},
   "outputs": [
    {
     "name": "stdout",
     "output_type": "stream",
     "text": [
      "{'NYC': {'Subscribers': 245896, 'Customers': 30902, 'Total': 276798}, 'Chicago': {'Subscribers': 54982, 'Customers': 17149, 'Total': 72131}, 'Washington': {'Subscribers': 51753, 'Customers': 14573, 'Total': 66326}}\n",
      "city which has the highest number of trips is:NYC\n",
      "city which has the highest proportion of trips made by subscribers is: Chicago\n",
      "city which has the highest proportion of trips made by short-term customers is:NYC\n"
     ]
    }
   ],
   "source": [
    "## Modify this and the previous cell to answer Question 4a. Remember to run ##\n",
    "## the function on the cleaned data files you created from Question 3.      ##\n",
    "data_files = ['./data/NYC-2016-Summary.csv',\n",
    "              './data/Chicago-2016-Summary.csv',\n",
    "              './data/Washington-2016-Summary.csv']\n",
    "city_trip_record={}\n",
    "\n",
    "for data_file in data_files:\n",
    "    city = data_file.split('-')[0].split('/')[-1]\n",
    "    city_trip_record[city] = number_of_trips(data_file)\n",
    "print(city_trip_record)\n",
    "\n",
    "#Answering question 4a through programming\n",
    "highest_trip = 0\n",
    "highest_pro_subs = 0\n",
    "highest_pro_cust = 0\n",
    "for k,v in city_trip_record.items():\n",
    "    pro_subs = v['Subscribers']/v['Total']\n",
    "    pro_cust = v['Customers']/v['Total']\n",
    "    if pro_cust >= highest_pro_cust:\n",
    "        highest_pro_cust = pro_cust\n",
    "        highest_pro_cust_city = k\n",
    "    if pro_subs >= highest_pro_subs:\n",
    "        highest_pro_subs = pro_subs\n",
    "        highest_pro_subs_city = k\n",
    "    if highest_trip <= v['Total']:\n",
    "        highest_trip = v['Total']\n",
    "        highest_trip_city = k\n",
    "        \n",
    "#printing the information we calculated        \n",
    "print(\"city which has the highest number of trips is:\" + highest_pro_subs_city)\n",
    "print(\"city which has the highest proportion of trips made by subscribers is: \"+highest_pro_cust_city)\n",
    "print(\"city which has the highest proportion of trips made by short-term customers is:\"+highest_trip_city)        \n"
   ]
  },
  {
   "cell_type": "markdown",
   "metadata": {},
   "source": [
    "\n",
    "**Question 4b**: Bike-share systems are designed for riders to take short trips. Most of the time, users are allowed to take trips of 30 minutes or less with no additional charges, with overage charges made for trips of longer than that duration. What is the average trip length for each city? What proportion of rides made in each city are longer than 30 minutes?\n",
    "\n",
    "**Answer**: As we can conclude from below code output:\n",
    "-  Washington has larger proportion of long trip(0.1083)\n",
    "-   NYC : average_trip_length: 15.81259299802294\n",
    "-  Chicago: average_trip_length: 16.563629368787335\n",
    "-  Washington: average_trip_length: 18.93287355913721"
   ]
  },
  {
   "cell_type": "code",
   "execution_count": 59,
   "metadata": {
    "scrolled": true
   },
   "outputs": [
    {
     "name": "stdout",
     "output_type": "stream",
     "text": [
      "{'NYC': {'average_trip_length': 15.81259299802294, 'long_trip': 0.07302437156337835}, 'Chicago': {'average_trip_length': 16.563629368787335, 'long_trip': 0.08332062497400562}, 'Washington': {'average_trip_length': 18.93287355913721, 'long_trip': 0.10838886711093688}}\n"
     ]
    }
   ],
   "source": [
    "def duration_of_trip(filename):\n",
    "    '''\n",
    "    return dictionary which maps city(citywise data) to their average trip length and proportion of long trip   \n",
    "    '''\n",
    "    with open(filename, 'r') as f_in:\n",
    "        # set up csv reader object\n",
    "        reader = csv.DictReader(f_in)\n",
    "        av_trip_length = 0\n",
    "        long_trip_pro = 0\n",
    "        row_count=0\n",
    "        for row in reader:\n",
    "            row_count = row_count + 1\n",
    "            av_trip_length = av_trip_length + float(row['duration'])\n",
    "            if float(row['duration']) > 30.0:\n",
    "                long_trip_pro = long_trip_pro + 1\n",
    "        av_trip_length = av_trip_length/row_count\n",
    "        long_trip_pro = long_trip_pro/row_count\n",
    "        return {\"average_trip_length\":av_trip_length,\"long_trip\":long_trip_pro}\n",
    "    \n",
    "trip_record = {}\n",
    "type_trip_record = {}\n",
    "for data_file in data_files:\n",
    "    city = data_file.split('-')[0].split('/')[-1]\n",
    "    trip_record[city] = duration_of_trip(data_file)\n",
    "    \n",
    "print(trip_record)\n"
   ]
  },
  {
   "cell_type": "markdown",
   "metadata": {},
   "source": [
    "**Question 4c**: Dig deeper into the question of trip duration based on ridership. Choose one city. Within that city, which type of user takes longer rides on average: Subscribers or Customers?\n",
    "\n",
    "**Answer**: \n",
    "-  Based on NewYork City bikeshare data,average Customers take significantly long trip(about 2.46 times) compared to subscribers.\n",
    "-   **So Customers takes longer rides.**"
   ]
  },
  {
   "cell_type": "code",
   "execution_count": 60,
   "metadata": {},
   "outputs": [
    {
     "name": "stdout",
     "output_type": "stream",
     "text": [
      "{'NYC': {'average: Subscribers trip duration': 13.680790523907177, 'average: Customers trip duration': 32.77595139473187}}\n"
     ]
    }
   ],
   "source": [
    "def type_duration_of_trip(filename):\n",
    "    '''\n",
    "    return dictionary of dictionary(for understanding and readability)\n",
    "    which contain average subscriber trip time and average customer trip time citywise \n",
    "    '''\n",
    "    with open(filename, 'r') as f_in:\n",
    "        # set up csv reader object\n",
    "        reader = csv.DictReader(f_in)\n",
    "        av_subs=0\n",
    "        total_row_sub =0\n",
    "        total_row_cus = 0\n",
    "        av_cust=0\n",
    "        for row in reader:\n",
    "            if row['user_type'] == 'Subscriber':\n",
    "                total_row_sub = total_row_sub +1\n",
    "                av_subs = av_subs+ float(row[\"duration\"])\n",
    "            else:\n",
    "                total_row_cus = total_row_cus +1\n",
    "                av_cust = av_cust + float(row['duration'])\n",
    "                \n",
    "        av_cust = av_cust/total_row_cus\n",
    "        av_subs = av_subs/total_row_sub\n",
    "        ret_pair={\"average: Subscribers trip duration\":av_subs,\"average: Customers trip duration\":av_cust}\n",
    "        return ret_pair\n",
    "\n",
    "trip_record = {}\n",
    "type_trip_record = {}\n",
    "data_files1 = ['./data/NYC-2016-Summary.csv']\n",
    "\n",
    "for data_file in data_files1:\n",
    "    city = data_file.split('-')[0].split('/')[-1]\n",
    "    type_trip_record[city] = type_duration_of_trip(data_file)\n",
    "    \n",
    "print(type_trip_record)\n",
    "\n"
   ]
  },
  {
   "cell_type": "markdown",
   "metadata": {},
   "source": [
    "<a id='visualizations'></a>\n",
    "### Visualizations"
   ]
  },
  {
   "cell_type": "code",
   "execution_count": 61,
   "metadata": {},
   "outputs": [
    {
     "data": {
      "image/png": "[encoded data removed]",
      "text/plain": [
       "<matplotlib.figure.Figure at 0x7f5464cea518>"
      ]
     },
     "metadata": {},
     "output_type": "display_data"
    }
   ],
   "source": [
    "# load library\n",
    "import matplotlib.pyplot as plt\n",
    "\n",
    "# http://ipython.readthedocs.io/en/stable/interactive/magics.html\n",
    "%matplotlib inline \n",
    "\n",
    "data = [ 7.65,  8.92,  7.42,  5.50, 16.17,  4.20,  8.98,  9.62, 11.48, 14.33,\n",
    "        19.02, 21.53,  3.90,  7.97,  2.62,  2.67,  3.08, 14.40, 12.90,  7.83,\n",
    "        25.12,  8.30,  4.93, 12.43, 10.60,  6.17, 10.88,  4.78, 15.15,  3.53,\n",
    "         9.43, 13.32, 11.72,  9.85,  5.22, 15.10,  3.95,  3.17,  8.78,  1.88,\n",
    "         4.55, 12.68, 12.38,  9.78,  7.63,  6.45, 17.38, 11.90, 11.52,  8.63,]\n",
    "plt.hist(data)\n",
    "plt.title('Distribution of Trip Durations')\n",
    "plt.xlabel('Duration (m)')\n",
    "plt.show()"
   ]
  },
  {
   "cell_type": "markdown",
   "metadata": {},
   "source": [
    "In the above cell, we collected fifty trip times in a list, and passed this list as the first argument to the `.hist()` function. This function performs the computations and creates plotting objects for generating a histogram, but the plot is actually not rendered until the `.show()` function is executed. The `.title()` and `.xlabel()` functions provide some labeling for plot context.\n",
    "\n",
    "You will now use these functions to create a histogram of the trip times for the city you selected in question 4c. Don't separate the Subscribers and Customers for now: just collect all of the trip times and plot them."
   ]
  },
  {
   "cell_type": "code",
   "execution_count": 62,
   "metadata": {},
   "outputs": [
    {
     "data": {
      "image/png": "[encoded data removed]",
      "text/plain": [
       "<matplotlib.figure.Figure at 0x7f54475d0860>"
      ]
     },
     "metadata": {},
     "output_type": "display_data"
    }
   ],
   "source": [
    "def trip_time(filename):\n",
    "    '''\n",
    "    return list of floats for the trip times of subscriber and customer \n",
    "    ''' \n",
    "    trip_time_data=[]\n",
    "    with open(filename, 'r') as f_in:\n",
    "        reader = csv.DictReader(f_in)\n",
    "        for row in reader:\n",
    "            trip_time_data.append(float(row['duration']))\n",
    "    return trip_time_data\n",
    "\n",
    "\n",
    "\n",
    "record_trip =[]\n",
    "for data_file in data_files1:\n",
    "    record_trip = record_trip + trip_time(data_file)\n",
    "    \n",
    "plt.hist(record_trip)\n",
    "plt.title('Distribution of Trip Durations-NYC-2016-Summary')\n",
    "plt.xlabel('Duration in Minutes')\n",
    "plt.ylabel(\"Frequency\")\n",
    "plt.show()    \n",
    "\n",
    "\n"
   ]
  },
  {
   "cell_type": "markdown",
   "metadata": {},
   "source": [
    "Documentation for the function can be found [[here]](https://matplotlib.org/devdocs/api/_as_gen/matplotlib.pyplot.hist.html#matplotlib.pyplot.hist).\n",
    "\n",
    "**Question 5**: Plot the distribution of trip times for the Subscribers in your selected city. Do the same thing for only the Customers. Add limits to the plots so that only trips of duration less than 75 minutes are plotted. As a bonus, set the plots up so that bars are in five-minute wide intervals. For each group, where is the peak of each distribution? How would you describe the shape of each distribution?\n",
    "\n",
    "**Answer**: \n",
    "-  Distribution of Trip Durations(Subscribers)-NYC-2016-Summary:\n",
    "    1.  Peak of Distribution -- [20,25]\n",
    "    2.  Shape -- Positively Skewed\n",
    "-  Distribution of Trip Durations(Customers)-NYC-2016-Summary:\n",
    "    1.  Peak of Distribution -- [5,10]\n",
    "    2.  Shape -- Positively Skewed\n",
    "        "
   ]
  },
  {
   "cell_type": "code",
   "execution_count": 63,
   "metadata": {},
   "outputs": [
    {
     "data": {
      "image/png": "[encoded data removed]",
      "text/plain": [
       "<matplotlib.figure.Figure at 0x7f54656cae10>"
      ]
     },
     "metadata": {},
     "output_type": "display_data"
    },
    {
     "data": {
      "image/png": "[encoded data removed]",
      "text/plain": [
       "<matplotlib.figure.Figure at 0x7f54475448d0>"
      ]
     },
     "metadata": {},
     "output_type": "display_data"
    }
   ],
   "source": [
    "## Use this and additional cells to answer Question 5. ##\n",
    "def type_trip_time(filename):\n",
    "    '''\n",
    "    return list of float for trip time for subscriber and customer\n",
    "    '''\n",
    "    trip_time_data=[]\n",
    "    with open(filename, 'r') as f_in:\n",
    "        reader = csv.DictReader(f_in)\n",
    "        subs=[]\n",
    "        cust=[]\n",
    "        for row in reader:\n",
    "            if row['user_type'] == 'Customer':\n",
    "                subs.append(float(row['duration']))\n",
    "            else:\n",
    "                cust.append(float(row['duration']))          \n",
    "    return (subs,cust)\n",
    "\n",
    "subs_data,cust_data=type_trip_time(data_file)\n",
    "bar_range = 75\n",
    "bar_width = 5\n",
    "number_of_bins=bar_range//bar_width\n",
    "plt.hist(subs_data,range=(0,75),bins=number_of_bins,color='red')\n",
    "plt.title('Distribution of Trip Durations(Subscribers)-NYC-2016-Summary')\n",
    "plt.xlabel('Duration in Minutes')\n",
    "plt.ylabel(\"Frequency\")\n",
    "plt.show()\n",
    "plt.hist(cust_data,range=(0,75),bins=number_of_bins,color='green')\n",
    "plt.title('Distribution of Trip Durations(Customers)-NYC-2016-Summary')\n",
    "plt.xlabel('Duration in Minutes')\n",
    "plt.ylabel(\"Frequency\")\n",
    "plt.show()\n"
   ]
  },
  {
   "cell_type": "markdown",
   "metadata": {
    "collapsed": true
   },
   "source": [
    "<a id='eda_continued'></a>\n",
    "## Performing Your Own Analysis\n",
    "\n",
    "**Question 6**: How does ridership differ by month or season? Which month / season has the highest ridership? Does the ratio of Subscriber trips to Customer trips change depending on the month or season?. Your investigation should involve at least two variables and should compare at least two groups. You should also use at least one visualization as part of your explorations.\n",
    "\n",
    "**Answer**: \n",
    "- The Month has the highest ridership(combine Customer,Subscriber): September.\n",
    "- So Yes,The ratio of Subscriber trips to Customer trips change depending on the month"
   ]
  },
  {
   "cell_type": "code",
   "execution_count": 64,
   "metadata": {},
   "outputs": [
    {
     "name": "stdout",
     "output_type": "stream",
     "text": [
      "Ridership Differ by Month(combine Customer,Subscriber):[10180, 11170, 18413, 20160, 24455, 29242, 27522, 31104, 32699, 31145, 23908, 16083]\n",
      "Month has the Highest Ridership(combine Customer,Subscriber): September\n",
      "Month has the Highest Ridership(Subscriber): September\n",
      "Month has the Highest Ridership(Customer) : August\n",
      "Ratio of Subscriber trips to Customer trips change depending on the month:[19.860655737704917, 18.63093145869947, 8.80457933972311, 6.659574468085107, 6.620754129012154, 8.324617346938776, 5.920291677143576, 6.049864007252946, 6.4434327338948325, 9.360944777112442, 12.289605336297944, 22.44460641399417]\n"
     ]
    },
    {
     "data": {
      "image/png": "[encoded data removed]",
      "text/plain": [
       "<matplotlib.figure.Figure at 0x7f54656671d0>"
      ]
     },
     "metadata": {},
     "output_type": "display_data"
    },
    {
     "data": {
      "image/png": "[encoded data removed]",
      "text/plain": [
       "<matplotlib.figure.Figure at 0x7f5465083c88>"
      ]
     },
     "metadata": {},
     "output_type": "display_data"
    }
   ],
   "source": [
    "def monthwise_ridership(filename):\n",
    "    '''\n",
    "    return total number of rides done by subscriber and customer monthwise using dictionary\n",
    "    '''\n",
    "    with open(filename, 'r') as f_in:\n",
    "        reader = csv.DictReader(f_in)\n",
    "        counter_monthly_ride_cust = [0 for i in range(13)]\n",
    "        counter_monthly_ride_subs = [0 for i in range(13)]\n",
    "        \n",
    "        for row in reader:\n",
    "            if row['user_type'] == \"Customer\":\n",
    "                counter_monthly_ride_cust[int(row['month'])] = counter_monthly_ride_cust[int(row['month'])] + 1\n",
    "            if row['user_type'] == \"Subscriber\":\n",
    "                counter_monthly_ride_subs[int(row['month'])] = counter_monthly_ride_subs[int(row['month'])] + 1\n",
    "        return counter_monthly_ride_subs, counter_monthly_ride_cust\n",
    "\n",
    "\n",
    "# calling function\n",
    "data_files2 = './data/NYC-2016-Summary.csv'\n",
    "a, b = monthwise_ridership(data_files2)\n",
    "\n",
    "pro_substocust = [0 for i in range(13)]\n",
    "total_rides = [0 for i in range(13)]\n",
    "\n",
    "#Here we are calculating the proportion of subsriber to customer monthwise and also we are storing\n",
    "# total rides monthwise\n",
    "for ii in range(1, 13):\n",
    "    pro_substocust[ii] = a[ii] / b[ii]  # for proportion\n",
    "    total_rides[ii] = a[ii] + b[ii]  # for combine ridership\n",
    "\n",
    "#Here we are storing the month name of highest subscriber,customer and combine both    \n",
    "high_month_subs = calendar.month_name[a.index(max(a))]\n",
    "high_month_cust = calendar.month_name[b.index(max(b))]\n",
    "high_month_both = calendar.month_name[total_rides.index(max(total_rides))]\n",
    "\n",
    "print(\"Ridership Differ by Month(combine Customer,Subscriber):\" + str(total_rides[1:]))\n",
    "print(\"Month has the Highest Ridership(combine Customer,Subscriber): \" + str(high_month_both))\n",
    "print(\"Month has the Highest Ridership(Subscriber): \" + str(high_month_subs))\n",
    "print(\"Month has the Highest Ridership(Customer) : \" + str(high_month_cust))\n",
    "\n",
    "# ratio of Subscriber trips to Customer trips change depending on the month\n",
    "print(\"Ratio of Subscriber trips to Customer trips change depending on the month:\" + str(pro_substocust[1:]))\n",
    "\n",
    "height = pro_substocust[1:]\n",
    "month_name =[]\n",
    "for i in range(1,13):\n",
    "    month_name.append(calendar.month_name[i])\n",
    "bars = month_name\n",
    "y_pos = np.arange(len(bars))\n",
    "\n",
    "# Create horizontal bars\n",
    "plt.barh(y_pos, height,color = (0.5,0.1,0.5,0.6))\n",
    "\n",
    "# Create names on the y-axis\n",
    "plt.yticks(y_pos, bars)\n",
    "plt.title('Ratio of Subscriber Trips to Customer Trips Depending on the Month')\n",
    "plt.xlabel('Ratio of Subscriber trips to Customer trips')\n",
    "plt.show()\n",
    "\n",
    "#Ridership plot differ by month\n",
    "\n",
    "height = total_rides[1:]\n",
    "y_pos = np.arange(len(bars))\n",
    "plt.barh(y_pos, height,color = (1.0, 0, 0, 1))\n",
    "plt.yticks(y_pos, bars)\n",
    "plt.title('Ridership Differ by Month')\n",
    "plt.xlabel('Number of Rides Taken')\n",
    "plt.show()\n",
    "\n",
    "\n"
   ]
  },
  {
   "cell_type": "markdown",
   "metadata": {},
   "source": [
    "<a id='conclusions'></a>\n",
    "## Conclusions\n",
    "\n",
    "**Question 7**: Putting the bike share data aside, think of a topic or field of interest where you would like to be able to apply the techniques of data science. What would you like to be able to learn from your chosen subject?\n",
    "\n",
    "**Answer**: I will like apply data science techinique into medical industry.How certain medicine affect the patients based on their condition.So side affect and effectiveness can be predicted based on certain patients condition prior.So data science can be life saving and healthcare improving.\n"
   ]
  },
  {
   "cell_type": "code",
   "execution_count": 65,
   "metadata": {},
   "outputs": [
    {
     "data": {
      "text/plain": [
       "0"
      ]
     },
     "execution_count": 65,
     "metadata": {},
     "output_type": "execute_result"
    }
   ],
   "source": [
    "from subprocess import call\n",
    "call(['python', '-m', 'nbconvert', 'Bike_Share_Analysis.ipynb'])"
   ]
  }
 ],
 "metadata": {
  "anaconda-cloud": {},
  "kernelspec": {
   "display_name": "Python 3",
   "language": "python",
   "name": "python3"
  },
  "language_info": {
   "codemirror_mode": {
    "name": "ipython",
    "version": 3
   },
   "file_extension": ".py",
   "mimetype": "text/x-python",
   "name": "python",
   "nbconvert_exporter": "python",
   "pygments_lexer": "ipython3",
   "version": "3.6.3"
  }
 },
 "nbformat": 4,
 "nbformat_minor": 1
}
